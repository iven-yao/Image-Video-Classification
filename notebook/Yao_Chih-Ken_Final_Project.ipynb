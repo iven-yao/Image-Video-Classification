{
 "cells": [
  {
   "cell_type": "markdown",
   "id": "fb8a7e66",
   "metadata": {},
   "source": [
    "<h1>DSCI-552 Final Project</h1>\n",
    "<br>\n",
    "Name: Chih-Ken Yao\n",
    "<br>\n",
    "USC ID: 7958315200\n",
    "<br>\n",
    "Github username: chihkeny"
   ]
  },
  {
   "cell_type": "code",
   "execution_count": 1,
   "id": "63e26bb7",
   "metadata": {},
   "outputs": [],
   "source": [
    "import tensorflow as tf\n",
    "import numpy as np\n",
    "import matplotlib.pyplot as plt\n",
    "from sklearn.model_selection import train_test_split\n",
    "import os\n",
    "import splitfolders\n",
    "import PIL\n",
    "from tqdm.notebook import tqdm\n",
    "\n",
    "from tensorflow.keras.applications.resnet50 import ResNet50\n",
    "from tensorflow.keras.applications import EfficientNetB0\n",
    "from tensorflow.keras.applications.vgg16 import VGG16\n",
    "import keras\n",
    "\n",
    "from sklearn.metrics import multilabel_confusion_matrix\n",
    "from sklearn.metrics import confusion_matrix\n",
    "from sklearn.metrics import classification_report\n",
    "\n",
    "import cv2"
   ]
  },
  {
   "cell_type": "markdown",
   "id": "73d295b1",
   "metadata": {},
   "source": [
    "# (d) Data Exploration and Pre-processing"
   ]
  },
  {
   "cell_type": "code",
   "execution_count": 2,
   "id": "38dd9443",
   "metadata": {},
   "outputs": [
    {
     "data": {
      "application/vnd.jupyter.widget-view+json": {
       "model_id": "8a02f7ed1f8b44ee935c039a856886b4",
       "version_major": 2,
       "version_minor": 0
      },
      "text/plain": [
       "  0%|          | 0/5 [00:00<?, ?it/s]"
      ]
     },
     "metadata": {},
     "output_type": "display_data"
    },
    {
     "data": {
      "application/vnd.jupyter.widget-view+json": {
       "model_id": "0d37a211ff2046d388bc7037bcb9f18b",
       "version_major": 2,
       "version_minor": 0
      },
      "text/plain": [
       "  0%|          | 0/735 [00:00<?, ?it/s]"
      ]
     },
     "metadata": {},
     "output_type": "display_data"
    },
    {
     "data": {
      "application/vnd.jupyter.widget-view+json": {
       "model_id": "a33a5ad3d90e4ef7aa0a1ad4501f8b30",
       "version_major": 2,
       "version_minor": 0
      },
      "text/plain": [
       "  0%|          | 0/492 [00:00<?, ?it/s]"
      ]
     },
     "metadata": {},
     "output_type": "display_data"
    },
    {
     "data": {
      "application/vnd.jupyter.widget-view+json": {
       "model_id": "c94b1cc955ed4d66b0ef59003d1640a3",
       "version_major": 2,
       "version_minor": 0
      },
      "text/plain": [
       "  0%|          | 0/634 [00:00<?, ?it/s]"
      ]
     },
     "metadata": {},
     "output_type": "display_data"
    },
    {
     "data": {
      "application/vnd.jupyter.widget-view+json": {
       "model_id": "735a170c50184e638b9d28e35b0a8a9b",
       "version_major": 2,
       "version_minor": 0
      },
      "text/plain": [
       "  0%|          | 0/715 [00:00<?, ?it/s]"
      ]
     },
     "metadata": {},
     "output_type": "display_data"
    },
    {
     "data": {
      "application/vnd.jupyter.widget-view+json": {
       "model_id": "00563bde9b204ef6b63b487a086b752c",
       "version_major": 2,
       "version_minor": 0
      },
      "text/plain": [
       "  0%|          | 0/704 [00:00<?, ?it/s]"
      ]
     },
     "metadata": {},
     "output_type": "display_data"
    }
   ],
   "source": [
    "#resize all images\n",
    "size = (224,224)\n",
    "orig_dir = '../data/Sport Images/'\n",
    "for activity in tqdm(os.listdir(orig_dir)):\n",
    "    input_folder = orig_dir+activity\n",
    "    output_folder = '../data/resize/'+activity\n",
    "    if not os.path.exists(output_folder):\n",
    "        os.makedirs(output_folder)\n",
    "    for file in tqdm(os.listdir(input_folder)):\n",
    "        input_img = input_folder+\"/\"+file\n",
    "        output_img = output_folder+'/'+file\n",
    "        img = PIL.Image.open(input_img)\n",
    "        img = img.resize(size)\n",
    "        img.save(output_img)"
   ]
  },
  {
   "cell_type": "code",
   "execution_count": 3,
   "id": "9b2c4ef1",
   "metadata": {},
   "outputs": [
    {
     "name": "stderr",
     "output_type": "stream",
     "text": [
      "Copying files: 3280 files [00:12, 267.26 files/s]\n"
     ]
    }
   ],
   "source": [
    "#split all data into train, val, and test\n",
    "input_dir = '../data/resize/'\n",
    "output_dir = '../data/split/'\n",
    "if not os.path.exists(output_dir):\n",
    "    os.makedirs(output_dir)\n",
    "splitfolders.ratio(input_dir, output=output_dir, seed=552, ratio=(.7, .15, .15), group_prefix=None, move=False)"
   ]
  },
  {
   "cell_type": "code",
   "execution_count": 4,
   "id": "d8ef2fa1",
   "metadata": {},
   "outputs": [
    {
     "name": "stdout",
     "output_type": "stream",
     "text": [
      "Found 2293 files belonging to 5 classes.\n",
      "Found 490 files belonging to 5 classes.\n",
      "Found 496 files belonging to 5 classes.\n",
      "Found 2293 files belonging to 5 classes.\n",
      "Found 490 files belonging to 5 classes.\n",
      "Found 496 files belonging to 5 classes.\n"
     ]
    }
   ],
   "source": [
    "train_data = tf.keras.utils.image_dataset_from_directory(output_dir+'train', image_size=size, label_mode='categorical',seed=552) \n",
    "val_data = tf.keras.utils.image_dataset_from_directory(output_dir+'val', image_size=size, label_mode='categorical', seed=552) \n",
    "test_data = tf.keras.utils.image_dataset_from_directory(output_dir+'test', image_size=size, label_mode='categorical', seed=552)\n",
    "train_data_ordered = tf.keras.utils.image_dataset_from_directory(output_dir+'train', image_size=size, label_mode='categorical', shuffle=False)\n",
    "val_data_ordered = tf.keras.utils.image_dataset_from_directory(output_dir+'val', image_size=size, label_mode='categorical', shuffle=False) \n",
    "test_data_ordered = tf.keras.utils.image_dataset_from_directory(output_dir+'test', image_size=size, label_mode='categorical', shuffle=False)"
   ]
  },
  {
   "cell_type": "markdown",
   "id": "74687e9f",
   "metadata": {},
   "source": [
    "# (e) Transfer Learning for Image Classification"
   ]
  },
  {
   "cell_type": "code",
   "execution_count": 5,
   "id": "146ec66f",
   "metadata": {},
   "outputs": [],
   "source": [
    "def transfer_learning(pretrained, model_name):\n",
    "    inputs = keras.layers.Input(shape=(224, 224, 3))\n",
    "\n",
    "    augmentation = keras.Sequential(\n",
    "        [\n",
    "            keras.layers.RandomCrop(224,224),\n",
    "            keras.layers.RandomFlip(\"horizontal\"),\n",
    "            keras.layers.RandomZoom(height_factor=(-0.1,0.1)),\n",
    "            keras.layers.RandomTranslation(height_factor=(-0.1,0.1), width_factor=(-0.1,0.1)),\n",
    "            keras.layers.RandomRotation(factor=(-0.1, 0.1)),\n",
    "            keras.layers.RandomContrast(factor=0.1)\n",
    "        ],\n",
    "        name=\"image_augmentation\")\n",
    "\n",
    "    outputs = keras.Sequential(\n",
    "        [\n",
    "            keras.layers.Dense(5, activation='relu'),\n",
    "            keras.layers.BatchNormalization(),\n",
    "            keras.layers.Dropout(0.20),\n",
    "            keras.layers.Dense(5, activation='softmax')\n",
    "        ],\n",
    "        name = \"outputs\"\n",
    "    )\n",
    "\n",
    "\n",
    "    model = keras.Sequential(\n",
    "        [\n",
    "            inputs,\n",
    "            augmentation,\n",
    "            pretrained,\n",
    "            outputs\n",
    "        ], \n",
    "        name = model_name\n",
    "    )\n",
    "\n",
    "    print(model.summary())\n",
    "    print(model.output_shape)\n",
    "\n",
    "    opt = keras.optimizers.Adam(learning_rate=0.001)\n",
    "    model.compile(loss='categorical_crossentropy', optimizer=opt, metrics=['accuracy'])\n",
    "    earlystop = keras.callbacks.EarlyStopping(monitor='val_loss', patience=5)\n",
    "\n",
    "    results = model.fit(train_data, epochs=100, callbacks=[earlystop], batch_size=5, validation_data=val_data)\n",
    "\n",
    "    plt.plot(results.history[\"accuracy\"])\n",
    "    plt.plot(results.history[\"val_accuracy\"])\n",
    "    plt.title(model_name + \" accuracy\")\n",
    "    plt.ylabel(\"accuracy\")\n",
    "    plt.xlabel(\"epoch\")\n",
    "    plt.legend([\"train\", \"validation\"])\n",
    "    plt.show()\n",
    "    \n",
    "    return model, results"
   ]
  },
  {
   "cell_type": "code",
   "execution_count": 6,
   "id": "8f5af3aa",
   "metadata": {},
   "outputs": [],
   "source": [
    "labels = ['baseball','basketball','fencing','tennis','volleyball']\n",
    "def stats(_model, data):\n",
    "    pred = _model.predict(data)\n",
    "    y_true = np.concatenate([y for x, y in data], axis=0)\n",
    "    y_pred = np.zeros_like(pred)\n",
    "    y_pred[np.arange(len(pred)), pred.argmax(1)] = 1\n",
    "    \n",
    "    y_true_labels = []\n",
    "    for y in y_true:\n",
    "        for i in range(len(y)):\n",
    "            if y[i] == 1: \n",
    "                y_true_labels.append(labels[i])\n",
    "            \n",
    "    y_pred_labels = []\n",
    "    for y in y_pred:\n",
    "        for i in range(len(y)):\n",
    "            if y[i] == 1: \n",
    "                y_pred_labels.append(labels[i])\n",
    "    \n",
    "    print()\n",
    "    print(\"Multilabel Confusion Matrix:\")\n",
    "    cm = confusion_matrix(y_true_labels, y_pred_labels)\n",
    "    print(cm)\n",
    "    \n",
    "    print()\n",
    "    print(\"Classification Report:\")\n",
    "    report = classification_report(y_true_labels, y_pred_labels)\n",
    "    print(report)"
   ]
  },
  {
   "cell_type": "code",
   "execution_count": 7,
   "id": "50f2eb74",
   "metadata": {},
   "outputs": [],
   "source": [
    "def print_stats(_model):\n",
    "    print(\"-------------------------------------------------------\")\n",
    "    print(\"train data:\")\n",
    "    stats(_model, train_data_ordered)\n",
    "    print(\"-------------------------------------------------------\")\n",
    "    print(\"-------------------------------------------------------\")\n",
    "    print(\"test data:\")\n",
    "    stats(_model, test_data_ordered)\n",
    "    print(\"-------------------------------------------------------\")"
   ]
  },
  {
   "cell_type": "markdown",
   "id": "a93f660f",
   "metadata": {},
   "source": [
    "## ResNet50"
   ]
  },
  {
   "cell_type": "code",
   "execution_count": 8,
   "id": "0c96085d",
   "metadata": {},
   "outputs": [
    {
     "name": "stdout",
     "output_type": "stream",
     "text": [
      "Model: \"ResNet50\"\n",
      "_________________________________________________________________\n",
      " Layer (type)                Output Shape              Param #   \n",
      "=================================================================\n",
      " image_augmentation (Sequent  (None, 224, 224, 3)      0         \n",
      " ial)                                                            \n",
      "                                                                 \n",
      " resnet50 (Functional)       (None, 1000)              25636712  \n",
      "                                                                 \n",
      " outputs (Sequential)        (None, 5)                 5055      \n",
      "                                                                 \n",
      "=================================================================\n",
      "Total params: 25,641,767\n",
      "Trainable params: 2,054,045\n",
      "Non-trainable params: 23,587,722\n",
      "_________________________________________________________________\n",
      "None\n",
      "(None, 5)\n",
      "Epoch 1/100\n",
      "72/72 [==============================] - 117s 2s/step - loss: 1.3187 - accuracy: 0.4963 - val_loss: 1.5426 - val_accuracy: 0.6735\n",
      "Epoch 2/100\n",
      "72/72 [==============================] - 113s 2s/step - loss: 0.8993 - accuracy: 0.7117 - val_loss: 1.4133 - val_accuracy: 0.7980\n",
      "Epoch 3/100\n",
      "72/72 [==============================] - 117s 2s/step - loss: 0.7097 - accuracy: 0.7798 - val_loss: 1.2532 - val_accuracy: 0.8143\n",
      "Epoch 4/100\n",
      "72/72 [==============================] - 117s 2s/step - loss: 0.6375 - accuracy: 0.8116 - val_loss: 1.0596 - val_accuracy: 0.8367\n",
      "Epoch 5/100\n",
      "72/72 [==============================] - 115s 2s/step - loss: 0.5445 - accuracy: 0.8365 - val_loss: 0.7877 - val_accuracy: 0.8837\n",
      "Epoch 6/100\n",
      "72/72 [==============================] - 119s 2s/step - loss: 0.4725 - accuracy: 0.8666 - val_loss: 0.6419 - val_accuracy: 0.8408\n",
      "Epoch 7/100\n",
      "72/72 [==============================] - 115s 2s/step - loss: 0.4779 - accuracy: 0.8578 - val_loss: 0.5204 - val_accuracy: 0.8510\n",
      "Epoch 8/100\n",
      "72/72 [==============================] - 118s 2s/step - loss: 0.4464 - accuracy: 0.8700 - val_loss: 0.4750 - val_accuracy: 0.8571\n",
      "Epoch 9/100\n",
      "72/72 [==============================] - 118s 2s/step - loss: 0.4124 - accuracy: 0.8727 - val_loss: 0.3861 - val_accuracy: 0.8837\n",
      "Epoch 10/100\n",
      "72/72 [==============================] - 116s 2s/step - loss: 0.3952 - accuracy: 0.8905 - val_loss: 0.4327 - val_accuracy: 0.8673\n",
      "Epoch 11/100\n",
      "72/72 [==============================] - 117s 2s/step - loss: 0.3873 - accuracy: 0.8905 - val_loss: 0.3625 - val_accuracy: 0.8857\n",
      "Epoch 12/100\n",
      "72/72 [==============================] - 116s 2s/step - loss: 0.3347 - accuracy: 0.9080 - val_loss: 0.4318 - val_accuracy: 0.8735\n",
      "Epoch 13/100\n",
      "72/72 [==============================] - 120s 2s/step - loss: 0.3451 - accuracy: 0.9036 - val_loss: 0.3805 - val_accuracy: 0.8776\n",
      "Epoch 14/100\n",
      "72/72 [==============================] - 120s 2s/step - loss: 0.3127 - accuracy: 0.9158 - val_loss: 0.4807 - val_accuracy: 0.8551\n",
      "Epoch 15/100\n",
      "72/72 [==============================] - 120s 2s/step - loss: 0.3385 - accuracy: 0.9023 - val_loss: 0.4660 - val_accuracy: 0.8653\n",
      "Epoch 16/100\n",
      "72/72 [==============================] - 120s 2s/step - loss: 0.3070 - accuracy: 0.9180 - val_loss: 0.4371 - val_accuracy: 0.8735\n"
     ]
    },
    {
     "data": {
      "image/png": "[encoded data removed]",
      "text/plain": [
       "<Figure size 432x288 with 1 Axes>"
      ]
     },
     "metadata": {
      "needs_background": "light"
     },
     "output_type": "display_data"
    }
   ],
   "source": [
    "res = ResNet50(weights='imagenet', include_top=True)\n",
    "for layer in res.layers[:-1]:\n",
    "    layer.trainable = False\n",
    "\n",
    "res_model, res_result = transfer_learning(res, \"ResNet50\")"
   ]
  },
  {
   "cell_type": "code",
   "execution_count": 9,
   "id": "30a21534",
   "metadata": {},
   "outputs": [
    {
     "name": "stdout",
     "output_type": "stream",
     "text": [
      "-------------------------------------------------------\n",
      "train data:\n",
      "72/72 [==============================] - 95s 1s/step\n",
      "\n",
      "Multilabel Confusion Matrix:\n",
      "[[508   1   4   1   0]\n",
      " [ 15 301   8   6  14]\n",
      " [  4   0 433   2   4]\n",
      " [ 17   1  11 469   2]\n",
      " [ 11   1  15   1 464]]\n",
      "\n",
      "Classification Report:\n",
      "              precision    recall  f1-score   support\n",
      "\n",
      "    baseball       0.92      0.99      0.95       514\n",
      "  basketball       0.99      0.88      0.93       344\n",
      "     fencing       0.92      0.98      0.95       443\n",
      "      tennis       0.98      0.94      0.96       500\n",
      "  volleyball       0.96      0.94      0.95       492\n",
      "\n",
      "    accuracy                           0.95      2293\n",
      "   macro avg       0.95      0.94      0.95      2293\n",
      "weighted avg       0.95      0.95      0.95      2293\n",
      "\n",
      "-------------------------------------------------------\n",
      "-------------------------------------------------------\n",
      "test data:\n",
      "16/16 [==============================] - 21s 1s/step\n",
      "\n",
      "Multilabel Confusion Matrix:\n",
      "[[102   2   3   2   1]\n",
      " [  3  62   3   4   3]\n",
      " [  2   0  88   1   5]\n",
      " [  5   0   2  99   2]\n",
      " [  2   1   7   3  94]]\n",
      "\n",
      "Classification Report:\n",
      "              precision    recall  f1-score   support\n",
      "\n",
      "    baseball       0.89      0.93      0.91       110\n",
      "  basketball       0.95      0.83      0.89        75\n",
      "     fencing       0.85      0.92      0.88        96\n",
      "      tennis       0.91      0.92      0.91       108\n",
      "  volleyball       0.90      0.88      0.89       107\n",
      "\n",
      "    accuracy                           0.90       496\n",
      "   macro avg       0.90      0.89      0.90       496\n",
      "weighted avg       0.90      0.90      0.90       496\n",
      "\n",
      "-------------------------------------------------------\n"
     ]
    }
   ],
   "source": [
    "print_stats(res_model)"
   ]
  },
  {
   "cell_type": "markdown",
   "id": "ba0e3b13",
   "metadata": {},
   "source": [
    "## EfficientNetB0"
   ]
  },
  {
   "cell_type": "code",
   "execution_count": 10,
   "id": "51bd23e3",
   "metadata": {
    "scrolled": false
   },
   "outputs": [
    {
     "name": "stdout",
     "output_type": "stream",
     "text": [
      "Model: \"EfficientNetB0\"\n",
      "_________________________________________________________________\n",
      " Layer (type)                Output Shape              Param #   \n",
      "=================================================================\n",
      " image_augmentation (Sequent  (None, 224, 224, 3)      0         \n",
      " ial)                                                            \n",
      "                                                                 \n",
      " efficientnetb0 (Functional)  (None, 1000)             5330571   \n",
      "                                                                 \n",
      " outputs (Sequential)        (None, 5)                 5055      \n",
      "                                                                 \n",
      "=================================================================\n",
      "Total params: 5,335,626\n",
      "Trainable params: 1,286,045\n",
      "Non-trainable params: 4,049,581\n",
      "_________________________________________________________________\n",
      "None\n",
      "(None, 5)\n",
      "Epoch 1/100\n",
      "72/72 [==============================] - 83s 1s/step - loss: 1.0745 - accuracy: 0.6533 - val_loss: 1.4928 - val_accuracy: 0.4184\n",
      "Epoch 2/100\n",
      "72/72 [==============================] - 76s 1s/step - loss: 0.6091 - accuracy: 0.8600 - val_loss: 1.3371 - val_accuracy: 0.8531\n",
      "Epoch 3/100\n",
      "72/72 [==============================] - 75s 1s/step - loss: 0.4604 - accuracy: 0.8901 - val_loss: 1.1223 - val_accuracy: 0.9388\n",
      "Epoch 4/100\n",
      "72/72 [==============================] - 76s 1s/step - loss: 0.3764 - accuracy: 0.9132 - val_loss: 0.8478 - val_accuracy: 0.9490\n",
      "Epoch 5/100\n",
      "72/72 [==============================] - 76s 1s/step - loss: 0.3212 - accuracy: 0.9259 - val_loss: 0.5505 - val_accuracy: 0.9571\n",
      "Epoch 6/100\n",
      "72/72 [==============================] - 76s 1s/step - loss: 0.2755 - accuracy: 0.9381 - val_loss: 0.3348 - val_accuracy: 0.9592\n",
      "Epoch 7/100\n",
      "72/72 [==============================] - 76s 1s/step - loss: 0.2497 - accuracy: 0.9359 - val_loss: 0.2112 - val_accuracy: 0.9612\n",
      "Epoch 8/100\n",
      "72/72 [==============================] - 77s 1s/step - loss: 0.2309 - accuracy: 0.9389 - val_loss: 0.1590 - val_accuracy: 0.9633\n",
      "Epoch 9/100\n",
      "72/72 [==============================] - 77s 1s/step - loss: 0.1943 - accuracy: 0.9520 - val_loss: 0.1488 - val_accuracy: 0.9612\n",
      "Epoch 10/100\n",
      "72/72 [==============================] - 74s 1s/step - loss: 0.1884 - accuracy: 0.9581 - val_loss: 0.1364 - val_accuracy: 0.9653\n",
      "Epoch 11/100\n",
      "72/72 [==============================] - 70s 971ms/step - loss: 0.2003 - accuracy: 0.9446 - val_loss: 0.1333 - val_accuracy: 0.9653\n",
      "Epoch 12/100\n",
      "72/72 [==============================] - 71s 980ms/step - loss: 0.1600 - accuracy: 0.9581 - val_loss: 0.1317 - val_accuracy: 0.9653\n",
      "Epoch 13/100\n",
      "72/72 [==============================] - 69s 955ms/step - loss: 0.1617 - accuracy: 0.9577 - val_loss: 0.1328 - val_accuracy: 0.9633\n",
      "Epoch 14/100\n",
      "72/72 [==============================] - 69s 952ms/step - loss: 0.1567 - accuracy: 0.9581 - val_loss: 0.1396 - val_accuracy: 0.9592\n",
      "Epoch 15/100\n",
      "72/72 [==============================] - 71s 981ms/step - loss: 0.1406 - accuracy: 0.9625 - val_loss: 0.1456 - val_accuracy: 0.9551\n",
      "Epoch 16/100\n",
      "72/72 [==============================] - 70s 966ms/step - loss: 0.1225 - accuracy: 0.9703 - val_loss: 0.1308 - val_accuracy: 0.9653\n",
      "Epoch 17/100\n",
      "72/72 [==============================] - 69s 963ms/step - loss: 0.1298 - accuracy: 0.9655 - val_loss: 0.1489 - val_accuracy: 0.9653\n",
      "Epoch 18/100\n",
      "72/72 [==============================] - 70s 968ms/step - loss: 0.1271 - accuracy: 0.9655 - val_loss: 0.1690 - val_accuracy: 0.9551\n",
      "Epoch 19/100\n",
      "72/72 [==============================] - 69s 957ms/step - loss: 0.1294 - accuracy: 0.9638 - val_loss: 0.1779 - val_accuracy: 0.9551\n",
      "Epoch 20/100\n",
      "72/72 [==============================] - 71s 993ms/step - loss: 0.1189 - accuracy: 0.9708 - val_loss: 0.1606 - val_accuracy: 0.9592\n",
      "Epoch 21/100\n",
      "72/72 [==============================] - 70s 968ms/step - loss: 0.0939 - accuracy: 0.9743 - val_loss: 0.1898 - val_accuracy: 0.9571\n"
     ]
    },
    {
     "data": {
      "image/png": "[encoded data removed]",
      "text/plain": [
       "<Figure size 432x288 with 1 Axes>"
      ]
     },
     "metadata": {
      "needs_background": "light"
     },
     "output_type": "display_data"
    }
   ],
   "source": [
    "enb = EfficientNetB0(weights='imagenet', include_top=True)\n",
    "for layer in enb.layers[:-1]:\n",
    "    layer.trainable = False\n",
    "\n",
    "enb_model, enb_result = transfer_learning(enb, 'EfficientNetB0')"
   ]
  },
  {
   "cell_type": "code",
   "execution_count": 11,
   "id": "a90a1267",
   "metadata": {},
   "outputs": [
    {
     "name": "stdout",
     "output_type": "stream",
     "text": [
      "-------------------------------------------------------\n",
      "train data:\n",
      "72/72 [==============================] - 55s 744ms/step\n",
      "\n",
      "Multilabel Confusion Matrix:\n",
      "[[514   0   0   0   0]\n",
      " [  1 337   0   0   6]\n",
      " [  0   0 443   0   0]\n",
      " [  0   0   0 500   0]\n",
      " [  1   0   0   1 490]]\n",
      "\n",
      "Classification Report:\n",
      "              precision    recall  f1-score   support\n",
      "\n",
      "    baseball       1.00      1.00      1.00       514\n",
      "  basketball       1.00      0.98      0.99       344\n",
      "     fencing       1.00      1.00      1.00       443\n",
      "      tennis       1.00      1.00      1.00       500\n",
      "  volleyball       0.99      1.00      0.99       492\n",
      "\n",
      "    accuracy                           1.00      2293\n",
      "   macro avg       1.00      1.00      1.00      2293\n",
      "weighted avg       1.00      1.00      1.00      2293\n",
      "\n",
      "-------------------------------------------------------\n",
      "-------------------------------------------------------\n",
      "test data:\n",
      "16/16 [==============================] - 11s 679ms/step\n",
      "\n",
      "Multilabel Confusion Matrix:\n",
      "[[103   0   2   2   3]\n",
      " [  0  74   0   1   0]\n",
      " [  0   0  91   2   3]\n",
      " [  1   0   0 107   0]\n",
      " [  2   1   3   0 101]]\n",
      "\n",
      "Classification Report:\n",
      "              precision    recall  f1-score   support\n",
      "\n",
      "    baseball       0.97      0.94      0.95       110\n",
      "  basketball       0.99      0.99      0.99        75\n",
      "     fencing       0.95      0.95      0.95        96\n",
      "      tennis       0.96      0.99      0.97       108\n",
      "  volleyball       0.94      0.94      0.94       107\n",
      "\n",
      "    accuracy                           0.96       496\n",
      "   macro avg       0.96      0.96      0.96       496\n",
      "weighted avg       0.96      0.96      0.96       496\n",
      "\n",
      "-------------------------------------------------------\n"
     ]
    }
   ],
   "source": [
    "print_stats(enb_model)"
   ]
  },
  {
   "cell_type": "markdown",
   "id": "bb9b39ea",
   "metadata": {},
   "source": [
    "## VGG16"
   ]
  },
  {
   "cell_type": "code",
   "execution_count": 12,
   "id": "6e43694c",
   "metadata": {},
   "outputs": [
    {
     "name": "stdout",
     "output_type": "stream",
     "text": [
      "Model: \"VGG16\"\n",
      "_________________________________________________________________\n",
      " Layer (type)                Output Shape              Param #   \n",
      "=================================================================\n",
      " image_augmentation (Sequent  (None, 224, 224, 3)      0         \n",
      " ial)                                                            \n",
      "                                                                 \n",
      " vgg16 (Functional)          (None, 1000)              138357544 \n",
      "                                                                 \n",
      " outputs (Sequential)        (None, 5)                 5055      \n",
      "                                                                 \n",
      "=================================================================\n",
      "Total params: 138,362,599\n",
      "Trainable params: 4,102,045\n",
      "Non-trainable params: 134,260,554\n",
      "_________________________________________________________________\n",
      "None\n",
      "(None, 5)\n",
      "Epoch 1/100\n",
      "72/72 [==============================] - 202s 3s/step - loss: 1.2816 - accuracy: 0.5146 - val_loss: 1.5524 - val_accuracy: 0.5020\n",
      "Epoch 2/100\n",
      "72/72 [==============================] - 200s 3s/step - loss: 1.0427 - accuracy: 0.6420 - val_loss: 1.4744 - val_accuracy: 0.7082\n",
      "Epoch 3/100\n",
      "72/72 [==============================] - 200s 3s/step - loss: 0.9130 - accuracy: 0.7239 - val_loss: 1.3623 - val_accuracy: 0.7694\n",
      "Epoch 4/100\n",
      "72/72 [==============================] - 204s 3s/step - loss: 0.8149 - accuracy: 0.7654 - val_loss: 1.1997 - val_accuracy: 0.7878\n",
      "Epoch 5/100\n",
      "72/72 [==============================] - 200s 3s/step - loss: 0.7742 - accuracy: 0.7872 - val_loss: 1.0455 - val_accuracy: 0.7837\n",
      "Epoch 6/100\n",
      "72/72 [==============================] - 200s 3s/step - loss: 0.7388 - accuracy: 0.7998 - val_loss: 0.8321 - val_accuracy: 0.8184\n",
      "Epoch 7/100\n",
      "72/72 [==============================] - 200s 3s/step - loss: 0.7385 - accuracy: 0.7946 - val_loss: 0.8305 - val_accuracy: 0.7776\n",
      "Epoch 8/100\n",
      "72/72 [==============================] - 200s 3s/step - loss: 0.6855 - accuracy: 0.8142 - val_loss: 0.6293 - val_accuracy: 0.8388\n",
      "Epoch 9/100\n",
      "72/72 [==============================] - 201s 3s/step - loss: 0.7102 - accuracy: 0.8033 - val_loss: 0.7201 - val_accuracy: 0.7857\n",
      "Epoch 10/100\n",
      "72/72 [==============================] - 201s 3s/step - loss: 0.6746 - accuracy: 0.8264 - val_loss: 0.6294 - val_accuracy: 0.8367\n",
      "Epoch 11/100\n",
      "72/72 [==============================] - 201s 3s/step - loss: 0.6461 - accuracy: 0.8421 - val_loss: 0.6208 - val_accuracy: 0.8408\n",
      "Epoch 12/100\n",
      "72/72 [==============================] - 207s 3s/step - loss: 0.6419 - accuracy: 0.8264 - val_loss: 0.6685 - val_accuracy: 0.8184\n",
      "Epoch 13/100\n",
      "72/72 [==============================] - 203s 3s/step - loss: 0.6456 - accuracy: 0.8347 - val_loss: 0.6232 - val_accuracy: 0.8449\n",
      "Epoch 14/100\n",
      "72/72 [==============================] - 200s 3s/step - loss: 0.5906 - accuracy: 0.8543 - val_loss: 0.6155 - val_accuracy: 0.8408\n",
      "Epoch 15/100\n",
      "72/72 [==============================] - 200s 3s/step - loss: 0.6191 - accuracy: 0.8456 - val_loss: 0.6039 - val_accuracy: 0.8449\n",
      "Epoch 16/100\n",
      "72/72 [==============================] - 201s 3s/step - loss: 0.5127 - accuracy: 0.8731 - val_loss: 0.6301 - val_accuracy: 0.8449\n",
      "Epoch 17/100\n",
      "72/72 [==============================] - 201s 3s/step - loss: 0.5782 - accuracy: 0.8587 - val_loss: 0.6930 - val_accuracy: 0.8245\n",
      "Epoch 18/100\n",
      "72/72 [==============================] - 201s 3s/step - loss: 0.5666 - accuracy: 0.8609 - val_loss: 0.6534 - val_accuracy: 0.8388\n",
      "Epoch 19/100\n",
      "72/72 [==============================] - 200s 3s/step - loss: 0.5584 - accuracy: 0.8613 - val_loss: 0.7301 - val_accuracy: 0.8000\n",
      "Epoch 20/100\n",
      "72/72 [==============================] - 200s 3s/step - loss: 0.5714 - accuracy: 0.8644 - val_loss: 0.6124 - val_accuracy: 0.8388\n"
     ]
    },
    {
     "data": {
      "image/png": "[encoded data removed]",
      "text/plain": [
       "<Figure size 432x288 with 1 Axes>"
      ]
     },
     "metadata": {
      "needs_background": "light"
     },
     "output_type": "display_data"
    }
   ],
   "source": [
    "vgg = VGG16(weights=\"imagenet\", include_top=True)\n",
    "for layer in vgg.layers[:-1]:\n",
    "    layer.trainable = False \n",
    "\n",
    "vgg_model, vgg_result = transfer_learning(vgg, \"VGG16\")"
   ]
  },
  {
   "cell_type": "code",
   "execution_count": 13,
   "id": "f737d900",
   "metadata": {},
   "outputs": [
    {
     "name": "stdout",
     "output_type": "stream",
     "text": [
      "-------------------------------------------------------\n",
      "train data:\n",
      "72/72 [==============================] - 159s 2s/step\n",
      "\n",
      "Multilabel Confusion Matrix:\n",
      "[[469   5  18  17   5]\n",
      " [  0 303   9   8  24]\n",
      " [  5   1 418  14   5]\n",
      " [ 15   4   9 464   8]\n",
      " [  5   7  21  10 449]]\n",
      "\n",
      "Classification Report:\n",
      "              precision    recall  f1-score   support\n",
      "\n",
      "    baseball       0.95      0.91      0.93       514\n",
      "  basketball       0.95      0.88      0.91       344\n",
      "     fencing       0.88      0.94      0.91       443\n",
      "      tennis       0.90      0.93      0.92       500\n",
      "  volleyball       0.91      0.91      0.91       492\n",
      "\n",
      "    accuracy                           0.92      2293\n",
      "   macro avg       0.92      0.92      0.92      2293\n",
      "weighted avg       0.92      0.92      0.92      2293\n",
      "\n",
      "-------------------------------------------------------\n",
      "-------------------------------------------------------\n",
      "test data:\n",
      "16/16 [==============================] - 35s 2s/step\n",
      "\n",
      "Multilabel Confusion Matrix:\n",
      "[[94  2  7  5  2]\n",
      " [ 2 64  1  2  6]\n",
      " [ 4  1 85  3  3]\n",
      " [ 6  2  5 94  1]\n",
      " [ 3  5  4  2 93]]\n",
      "\n",
      "Classification Report:\n",
      "              precision    recall  f1-score   support\n",
      "\n",
      "    baseball       0.86      0.85      0.86       110\n",
      "  basketball       0.86      0.85      0.86        75\n",
      "     fencing       0.83      0.89      0.86        96\n",
      "      tennis       0.89      0.87      0.88       108\n",
      "  volleyball       0.89      0.87      0.88       107\n",
      "\n",
      "    accuracy                           0.87       496\n",
      "   macro avg       0.87      0.87      0.87       496\n",
      "weighted avg       0.87      0.87      0.87       496\n",
      "\n",
      "-------------------------------------------------------\n"
     ]
    }
   ],
   "source": [
    "print_stats(vgg_model)"
   ]
  },
  {
   "cell_type": "markdown",
   "id": "74cea697",
   "metadata": {},
   "source": [
    "# (f) Video Classification Using Moving Averages"
   ]
  },
  {
   "cell_type": "code",
   "execution_count": 28,
   "id": "6d23b322",
   "metadata": {},
   "outputs": [],
   "source": [
    "combined_data = train_data.concatenate(val_data).concatenate(test_data)\n",
    "video_labels = ['BaseballPitch', 'Basketball', 'Fencing', 'TennisSwing', 'VolleyballSpiking']"
   ]
  },
  {
   "cell_type": "code",
   "execution_count": 15,
   "id": "938c0b90",
   "metadata": {},
   "outputs": [],
   "source": [
    "# reuse train+val+test data fit till previous epochs\n",
    "def transfer_learning_retrain(pretrained, model_name, prev_epochs):\n",
    "    inputs = keras.layers.Input(shape=(224, 224, 3))\n",
    "\n",
    "    augmentation = keras.Sequential(\n",
    "        [\n",
    "            keras.layers.RandomCrop(224,224),\n",
    "            keras.layers.RandomFlip(\"horizontal\"),\n",
    "            keras.layers.RandomZoom(height_factor=(-0.1,0.1)),\n",
    "            keras.layers.RandomTranslation(height_factor=(-0.1,0.1), width_factor=(-0.1,0.1)),\n",
    "            keras.layers.RandomRotation(factor=(-0.1, 0.1)),\n",
    "            keras.layers.RandomContrast(factor=0.1)\n",
    "        ],\n",
    "        name=\"image_augmentation\")\n",
    "\n",
    "    outputs = keras.Sequential(\n",
    "        [\n",
    "            keras.layers.Dense(5, activation='relu'),\n",
    "            keras.layers.BatchNormalization(),\n",
    "            keras.layers.Dropout(0.20),\n",
    "            keras.layers.Dense(5, activation='softmax')\n",
    "        ],\n",
    "        name = \"outputs\"\n",
    "    )\n",
    "\n",
    "\n",
    "    model = keras.Sequential(\n",
    "        [\n",
    "            inputs,\n",
    "            augmentation,\n",
    "            pretrained,\n",
    "            outputs\n",
    "        ], \n",
    "        name = model_name\n",
    "    )\n",
    "\n",
    "    print(model.summary())\n",
    "    print(model.output_shape)\n",
    "\n",
    "    opt = keras.optimizers.Adam(learning_rate=0.001)\n",
    "    model.compile(loss='categorical_crossentropy', optimizer=opt, metrics=['accuracy'])\n",
    "\n",
    "    results = model.fit(combined_data, epochs=prev_epochs, batch_size=5)\n",
    "    \n",
    "    return model, results"
   ]
  },
  {
   "cell_type": "code",
   "execution_count": 16,
   "id": "b2d8d88c",
   "metadata": {},
   "outputs": [],
   "source": [
    "def getLabelOfVideo(path, model, n=100):\n",
    "    vid = cv2.VideoCapture(path)\n",
    "    total_frames = vid.get(cv2.CAP_PROP_FRAME_COUNT)\n",
    "    frames_step = total_frames//n\n",
    "    imgs = np.zeros((n,224,224,3))\n",
    "    labs = np.zeros((n, 5))\n",
    "    for i in range(n):\n",
    "        vid.set(1, i*frames_step)\n",
    "        _, image = vid.read()\n",
    "        resized = cv2.resize(image, size)\n",
    "        imgs[i] = resized\n",
    "        \n",
    "    d = tf.data.Dataset.from_tensor_slices((imgs, labs)).batch(5)\n",
    "    pred = model.predict(d, verbose=0)\n",
    "    pred = pred.mean(axis=0)\n",
    "    y_pred = np.zeros_like(pred)\n",
    "    y_pred[pred.argmax()] = 1\n",
    "    for i in range(5):\n",
    "            if y_pred[i] == 1: \n",
    "                lab = labels[i]\n",
    "                \n",
    "    return lab"
   ]
  },
  {
   "cell_type": "code",
   "execution_count": 17,
   "id": "61cf32d7",
   "metadata": {},
   "outputs": [],
   "source": [
    "def getLabels(model):\n",
    "    video_path = '../data/Sport Videos/'\n",
    "    y_true = []\n",
    "    y_pred = []\n",
    "    for activity in tqdm(os.listdir(video_path)):\n",
    "        input_folder = video_path+activity\n",
    "        for file in tqdm(os.listdir(input_folder)):\n",
    "            file_path = input_folder + '/' + file\n",
    "            y_true.append(labels[video_labels.index(activity)])\n",
    "            y_pred.append(getLabelOfVideo(file_path, model))\n",
    "    return y_true, y_pred"
   ]
  },
  {
   "cell_type": "code",
   "execution_count": 18,
   "id": "f4db7dac",
   "metadata": {},
   "outputs": [],
   "source": [
    "def video_stats(y_true, y_pred):\n",
    "    print()\n",
    "    print(\"Multilabel Confusion Matrix:\")\n",
    "    cm = confusion_matrix(y_true, y_pred)\n",
    "    print(cm)\n",
    "    \n",
    "    print()\n",
    "    print(\"Classification Report:\")\n",
    "    report = classification_report(y_true, y_pred)\n",
    "    print(report)"
   ]
  },
  {
   "cell_type": "markdown",
   "id": "f97cc8b9",
   "metadata": {},
   "source": [
    "# ResNet50"
   ]
  },
  {
   "cell_type": "code",
   "execution_count": 29,
   "id": "6efa3b9b",
   "metadata": {},
   "outputs": [
    {
     "name": "stdout",
     "output_type": "stream",
     "text": [
      "Model: \"ResNet50\"\n",
      "_________________________________________________________________\n",
      " Layer (type)                Output Shape              Param #   \n",
      "=================================================================\n",
      " image_augmentation (Sequent  (None, 224, 224, 3)      0         \n",
      " ial)                                                            \n",
      "                                                                 \n",
      " resnet50 (Functional)       (None, 1000)              25636712  \n",
      "                                                                 \n",
      " outputs (Sequential)        (None, 5)                 5055      \n",
      "                                                                 \n",
      "=================================================================\n",
      "Total params: 25,641,767\n",
      "Trainable params: 2,054,045\n",
      "Non-trainable params: 23,587,722\n",
      "_________________________________________________________________\n",
      "None\n",
      "(None, 5)\n",
      "Epoch 1/16\n",
      "104/104 [==============================] - 135s 1s/step - loss: 1.0727 - accuracy: 0.6810\n",
      "Epoch 2/16\n",
      "104/104 [==============================] - 138s 1s/step - loss: 0.7485 - accuracy: 0.8210\n",
      "Epoch 3/16\n",
      "104/104 [==============================] - 142s 1s/step - loss: 0.5872 - accuracy: 0.8811\n",
      "Epoch 4/16\n",
      "104/104 [==============================] - 149s 1s/step - loss: 0.5332 - accuracy: 0.8759\n",
      "Epoch 5/16\n",
      "104/104 [==============================] - 156s 1s/step - loss: 0.4946 - accuracy: 0.8740\n",
      "Epoch 6/16\n",
      "104/104 [==============================] - 153s 1s/step - loss: 0.4383 - accuracy: 0.8890\n",
      "Epoch 7/16\n",
      "104/104 [==============================] - 146s 1s/step - loss: 0.4126 - accuracy: 0.8875\n",
      "Epoch 8/16\n",
      "104/104 [==============================] - 138s 1s/step - loss: 0.4088 - accuracy: 0.8826\n",
      "Epoch 9/16\n",
      "104/104 [==============================] - 144s 1s/step - loss: 0.3739 - accuracy: 0.8887\n",
      "Epoch 10/16\n",
      "104/104 [==============================] - 140s 1s/step - loss: 0.3949 - accuracy: 0.8927\n",
      "Epoch 11/16\n",
      "104/104 [==============================] - 141s 1s/step - loss: 0.3698 - accuracy: 0.8978\n",
      "Epoch 12/16\n",
      "104/104 [==============================] - 149s 1s/step - loss: 0.3655 - accuracy: 0.8981\n",
      "Epoch 13/16\n",
      "104/104 [==============================] - 153s 1s/step - loss: 0.3300 - accuracy: 0.9094\n",
      "Epoch 14/16\n",
      "104/104 [==============================] - 143s 1s/step - loss: 0.3510 - accuracy: 0.9064\n",
      "Epoch 15/16\n",
      "104/104 [==============================] - 145s 1s/step - loss: 0.3894 - accuracy: 0.8875\n",
      "Epoch 16/16\n",
      "104/104 [==============================] - 143s 1s/step - loss: 0.3250 - accuracy: 0.9052\n"
     ]
    }
   ],
   "source": [
    "res_prev_epochs = len(res_result.history['loss'])\n",
    "new_res_model, new_res_result = transfer_learning_retrain(res, \"ResNet50\", res_prev_epochs)"
   ]
  },
  {
   "cell_type": "code",
   "execution_count": 30,
   "id": "3df7aec9",
   "metadata": {},
   "outputs": [
    {
     "data": {
      "application/vnd.jupyter.widget-view+json": {
       "model_id": "93a3ad213b8c4782b9f94949754de89c",
       "version_major": 2,
       "version_minor": 0
      },
      "text/plain": [
       "  0%|          | 0/5 [00:00<?, ?it/s]"
      ]
     },
     "metadata": {},
     "output_type": "display_data"
    },
    {
     "data": {
      "application/vnd.jupyter.widget-view+json": {
       "model_id": "2d2eff36065d4208940ac1995d4f9636",
       "version_major": 2,
       "version_minor": 0
      },
      "text/plain": [
       "  0%|          | 0/150 [00:00<?, ?it/s]"
      ]
     },
     "metadata": {},
     "output_type": "display_data"
    },
    {
     "data": {
      "application/vnd.jupyter.widget-view+json": {
       "model_id": "5f6bc62d3fb849df8f4ad1b06fb7eff1",
       "version_major": 2,
       "version_minor": 0
      },
      "text/plain": [
       "  0%|          | 0/137 [00:00<?, ?it/s]"
      ]
     },
     "metadata": {},
     "output_type": "display_data"
    },
    {
     "data": {
      "application/vnd.jupyter.widget-view+json": {
       "model_id": "fd85b18bef714b50aea6e372ac4b6b3b",
       "version_major": 2,
       "version_minor": 0
      },
      "text/plain": [
       "  0%|          | 0/111 [00:00<?, ?it/s]"
      ]
     },
     "metadata": {},
     "output_type": "display_data"
    },
    {
     "data": {
      "application/vnd.jupyter.widget-view+json": {
       "model_id": "215fe213d2e941059100b83f861b4ea7",
       "version_major": 2,
       "version_minor": 0
      },
      "text/plain": [
       "  0%|          | 0/167 [00:00<?, ?it/s]"
      ]
     },
     "metadata": {},
     "output_type": "display_data"
    },
    {
     "data": {
      "application/vnd.jupyter.widget-view+json": {
       "model_id": "eff26c30398d43568c3a212baba6f9c9",
       "version_major": 2,
       "version_minor": 0
      },
      "text/plain": [
       "  0%|          | 0/116 [00:00<?, ?it/s]"
      ]
     },
     "metadata": {},
     "output_type": "display_data"
    },
    {
     "name": "stdout",
     "output_type": "stream",
     "text": [
      "\n",
      "Multilabel Confusion Matrix:\n",
      "[[118   0   1  31   0]\n",
      " [ 25   0  24  67  21]\n",
      " [ 19   0  92   0   0]\n",
      " [ 10   0   0 157   0]\n",
      " [  0   0  77  15  24]]\n",
      "\n",
      "Classification Report:\n",
      "              precision    recall  f1-score   support\n",
      "\n",
      "    baseball       0.69      0.79      0.73       150\n",
      "  basketball       0.00      0.00      0.00       137\n",
      "     fencing       0.47      0.83      0.60       111\n",
      "      tennis       0.58      0.94      0.72       167\n",
      "  volleyball       0.53      0.21      0.30       116\n",
      "\n",
      "    accuracy                           0.57       681\n",
      "   macro avg       0.46      0.55      0.47       681\n",
      "weighted avg       0.46      0.57      0.49       681\n",
      "\n"
     ]
    },
    {
     "name": "stderr",
     "output_type": "stream",
     "text": [
      "C:\\Users\\iveny\\anaconda3\\lib\\site-packages\\sklearn\\metrics\\_classification.py:1318: UndefinedMetricWarning: Precision and F-score are ill-defined and being set to 0.0 in labels with no predicted samples. Use `zero_division` parameter to control this behavior.\n",
      "  _warn_prf(average, modifier, msg_start, len(result))\n",
      "C:\\Users\\iveny\\anaconda3\\lib\\site-packages\\sklearn\\metrics\\_classification.py:1318: UndefinedMetricWarning: Precision and F-score are ill-defined and being set to 0.0 in labels with no predicted samples. Use `zero_division` parameter to control this behavior.\n",
      "  _warn_prf(average, modifier, msg_start, len(result))\n",
      "C:\\Users\\iveny\\anaconda3\\lib\\site-packages\\sklearn\\metrics\\_classification.py:1318: UndefinedMetricWarning: Precision and F-score are ill-defined and being set to 0.0 in labels with no predicted samples. Use `zero_division` parameter to control this behavior.\n",
      "  _warn_prf(average, modifier, msg_start, len(result))\n"
     ]
    }
   ],
   "source": [
    "y_true_res, y_pred_res = getLabels(new_res_model)\n",
    "video_stats(y_true_res, y_pred_res)"
   ]
  },
  {
   "cell_type": "markdown",
   "id": "88aa1266",
   "metadata": {},
   "source": [
    "# EfficientNetB0"
   ]
  },
  {
   "cell_type": "code",
   "execution_count": 31,
   "id": "728a4e65",
   "metadata": {},
   "outputs": [
    {
     "name": "stdout",
     "output_type": "stream",
     "text": [
      "Model: \"EfficientNetB0\"\n",
      "_________________________________________________________________\n",
      " Layer (type)                Output Shape              Param #   \n",
      "=================================================================\n",
      " image_augmentation (Sequent  (None, 224, 224, 3)      0         \n",
      " ial)                                                            \n",
      "                                                                 \n",
      " efficientnetb0 (Functional)  (None, 1000)             5330571   \n",
      "                                                                 \n",
      " outputs (Sequential)        (None, 5)                 5055      \n",
      "                                                                 \n",
      "=================================================================\n",
      "Total params: 5,335,626\n",
      "Trainable params: 1,286,045\n",
      "Non-trainable params: 4,049,581\n",
      "_________________________________________________________________\n",
      "None\n",
      "(None, 5)\n",
      "Epoch 1/21\n",
      "104/104 [==============================] - 88s 797ms/step - loss: 1.1093 - accuracy: 0.6060\n",
      "Epoch 2/21\n",
      "104/104 [==============================] - 83s 796ms/step - loss: 0.5814 - accuracy: 0.8963\n",
      "Epoch 3/21\n",
      "104/104 [==============================] - 85s 819ms/step - loss: 0.3884 - accuracy: 0.9350\n",
      "Epoch 4/21\n",
      "104/104 [==============================] - 90s 859ms/step - loss: 0.2755 - accuracy: 0.9463\n",
      "Epoch 5/21\n",
      "104/104 [==============================] - 84s 805ms/step - loss: 0.2196 - accuracy: 0.9579\n",
      "Epoch 6/21\n",
      "104/104 [==============================] - 84s 805ms/step - loss: 0.1904 - accuracy: 0.9600\n",
      "Epoch 7/21\n",
      "104/104 [==============================] - 84s 805ms/step - loss: 0.1700 - accuracy: 0.9631\n",
      "Epoch 8/21\n",
      "104/104 [==============================] - 84s 807ms/step - loss: 0.1712 - accuracy: 0.9622\n",
      "Epoch 9/21\n",
      "104/104 [==============================] - 83s 801ms/step - loss: 0.1389 - accuracy: 0.9686\n",
      "Epoch 10/21\n",
      "104/104 [==============================] - 84s 807ms/step - loss: 0.1274 - accuracy: 0.9680\n",
      "Epoch 11/21\n",
      "104/104 [==============================] - 83s 793ms/step - loss: 0.1325 - accuracy: 0.9671\n",
      "Epoch 12/21\n",
      "104/104 [==============================] - 82s 785ms/step - loss: 0.1313 - accuracy: 0.9640\n",
      "Epoch 13/21\n",
      "104/104 [==============================] - 81s 781ms/step - loss: 0.1117 - accuracy: 0.9732\n",
      "Epoch 14/21\n",
      "104/104 [==============================] - 82s 789ms/step - loss: 0.1134 - accuracy: 0.9692\n",
      "Epoch 15/21\n",
      "104/104 [==============================] - 82s 786ms/step - loss: 0.1101 - accuracy: 0.9707\n",
      "Epoch 16/21\n",
      "104/104 [==============================] - 82s 784ms/step - loss: 0.1044 - accuracy: 0.9716\n",
      "Epoch 17/21\n",
      "104/104 [==============================] - 82s 783ms/step - loss: 0.0982 - accuracy: 0.9722\n",
      "Epoch 18/21\n",
      "104/104 [==============================] - 81s 778ms/step - loss: 0.1036 - accuracy: 0.9701\n",
      "Epoch 19/21\n",
      "104/104 [==============================] - 81s 782ms/step - loss: 0.0885 - accuracy: 0.9726\n",
      "Epoch 20/21\n",
      "104/104 [==============================] - 82s 788ms/step - loss: 0.1046 - accuracy: 0.9726\n",
      "Epoch 21/21\n",
      "104/104 [==============================] - 82s 792ms/step - loss: 0.0930 - accuracy: 0.9722\n"
     ]
    }
   ],
   "source": [
    "enb_prev_epochs = len(enb_result.history['loss'])\n",
    "new_enb_model, new_enb_result = transfer_learning_retrain(enb, \"EfficientNetB0\", enb_prev_epochs)"
   ]
  },
  {
   "cell_type": "code",
   "execution_count": 32,
   "id": "c9788aba",
   "metadata": {},
   "outputs": [
    {
     "data": {
      "application/vnd.jupyter.widget-view+json": {
       "model_id": "cbb8319bdeed4af5a400c7a92cb071ce",
       "version_major": 2,
       "version_minor": 0
      },
      "text/plain": [
       "  0%|          | 0/5 [00:00<?, ?it/s]"
      ]
     },
     "metadata": {},
     "output_type": "display_data"
    },
    {
     "data": {
      "application/vnd.jupyter.widget-view+json": {
       "model_id": "e3170a81ff0a4126943731bb4e740bc4",
       "version_major": 2,
       "version_minor": 0
      },
      "text/plain": [
       "  0%|          | 0/150 [00:00<?, ?it/s]"
      ]
     },
     "metadata": {},
     "output_type": "display_data"
    },
    {
     "data": {
      "application/vnd.jupyter.widget-view+json": {
       "model_id": "62ef6257114046549663ea05b4efbafb",
       "version_major": 2,
       "version_minor": 0
      },
      "text/plain": [
       "  0%|          | 0/137 [00:00<?, ?it/s]"
      ]
     },
     "metadata": {},
     "output_type": "display_data"
    },
    {
     "data": {
      "application/vnd.jupyter.widget-view+json": {
       "model_id": "9cc69095a69a4241b398fddd65c6dade",
       "version_major": 2,
       "version_minor": 0
      },
      "text/plain": [
       "  0%|          | 0/111 [00:00<?, ?it/s]"
      ]
     },
     "metadata": {},
     "output_type": "display_data"
    },
    {
     "data": {
      "application/vnd.jupyter.widget-view+json": {
       "model_id": "cf31648ab23541a5a1a8e9053704cd65",
       "version_major": 2,
       "version_minor": 0
      },
      "text/plain": [
       "  0%|          | 0/167 [00:00<?, ?it/s]"
      ]
     },
     "metadata": {},
     "output_type": "display_data"
    },
    {
     "data": {
      "application/vnd.jupyter.widget-view+json": {
       "model_id": "9744cebe4ade460499c75c0e5f224b8c",
       "version_major": 2,
       "version_minor": 0
      },
      "text/plain": [
       "  0%|          | 0/116 [00:00<?, ?it/s]"
      ]
     },
     "metadata": {},
     "output_type": "display_data"
    },
    {
     "name": "stdout",
     "output_type": "stream",
     "text": [
      "\n",
      "Multilabel Confusion Matrix:\n",
      "[[ 97   0  12  37   4]\n",
      " [  0   3  38  74  22]\n",
      " [  0   0 107   4   0]\n",
      " [ 19   0   7 138   3]\n",
      " [  1   0  61   7  47]]\n",
      "\n",
      "Classification Report:\n",
      "              precision    recall  f1-score   support\n",
      "\n",
      "    baseball       0.83      0.65      0.73       150\n",
      "  basketball       1.00      0.02      0.04       137\n",
      "     fencing       0.48      0.96      0.64       111\n",
      "      tennis       0.53      0.83      0.65       167\n",
      "  volleyball       0.62      0.41      0.49       116\n",
      "\n",
      "    accuracy                           0.58       681\n",
      "   macro avg       0.69      0.57      0.51       681\n",
      "weighted avg       0.70      0.58      0.51       681\n",
      "\n"
     ]
    }
   ],
   "source": [
    "y_true_enb, y_pred_enb = getLabels(new_enb_model)\n",
    "video_stats(y_true_enb, y_pred_enb)"
   ]
  },
  {
   "cell_type": "markdown",
   "id": "09660581",
   "metadata": {},
   "source": [
    "# VGG16"
   ]
  },
  {
   "cell_type": "code",
   "execution_count": 33,
   "id": "6aecc018",
   "metadata": {},
   "outputs": [
    {
     "name": "stdout",
     "output_type": "stream",
     "text": [
      "Model: \"VGG16\"\n",
      "_________________________________________________________________\n",
      " Layer (type)                Output Shape              Param #   \n",
      "=================================================================\n",
      " image_augmentation (Sequent  (None, 224, 224, 3)      0         \n",
      " ial)                                                            \n",
      "                                                                 \n",
      " vgg16 (Functional)          (None, 1000)              138357544 \n",
      "                                                                 \n",
      " outputs (Sequential)        (None, 5)                 5055      \n",
      "                                                                 \n",
      "=================================================================\n",
      "Total params: 138,362,599\n",
      "Trainable params: 4,102,045\n",
      "Non-trainable params: 134,260,554\n",
      "_________________________________________________________________\n",
      "None\n",
      "(None, 5)\n",
      "Epoch 1/20\n",
      "104/104 [==============================] - 327s 3s/step - loss: 1.4360 - accuracy: 0.3532\n",
      "Epoch 2/20\n",
      "104/104 [==============================] - 331s 3s/step - loss: 1.1380 - accuracy: 0.5410\n",
      "Epoch 3/20\n",
      "104/104 [==============================] - 338s 3s/step - loss: 0.9894 - accuracy: 0.6246\n",
      "Epoch 4/20\n",
      "104/104 [==============================] - 343s 3s/step - loss: 0.8748 - accuracy: 0.6816\n",
      "Epoch 5/20\n",
      "104/104 [==============================] - 340s 3s/step - loss: 0.8038 - accuracy: 0.7661\n",
      "Epoch 6/20\n",
      "104/104 [==============================] - 351s 3s/step - loss: 0.6862 - accuracy: 0.8060\n",
      "Epoch 7/20\n",
      "104/104 [==============================] - 348s 3s/step - loss: 0.6517 - accuracy: 0.8350\n",
      "Epoch 8/20\n",
      "104/104 [==============================] - 339s 3s/step - loss: 0.6515 - accuracy: 0.8329\n",
      "Epoch 9/20\n",
      "104/104 [==============================] - 349s 3s/step - loss: 0.5946 - accuracy: 0.8472\n",
      "Epoch 10/20\n",
      "104/104 [==============================] - 345s 3s/step - loss: 0.6031 - accuracy: 0.8457\n",
      "Epoch 11/20\n",
      "104/104 [==============================] - 338s 3s/step - loss: 0.6086 - accuracy: 0.8432\n",
      "Epoch 12/20\n",
      "104/104 [==============================] - 267s 3s/step - loss: 0.5820 - accuracy: 0.8564\n",
      "Epoch 13/20\n",
      "104/104 [==============================] - 271s 3s/step - loss: 0.5677 - accuracy: 0.8591\n",
      "Epoch 14/20\n",
      "104/104 [==============================] - 260s 3s/step - loss: 0.5652 - accuracy: 0.8597\n",
      "Epoch 15/20\n",
      "104/104 [==============================] - 290s 3s/step - loss: 0.5981 - accuracy: 0.8442\n",
      "Epoch 16/20\n",
      "104/104 [==============================] - 307s 3s/step - loss: 0.5395 - accuracy: 0.8579\n",
      "Epoch 17/20\n",
      "104/104 [==============================] - 349s 3s/step - loss: 0.5478 - accuracy: 0.8643\n",
      "Epoch 18/20\n",
      "104/104 [==============================] - 350s 3s/step - loss: 0.5470 - accuracy: 0.8655\n",
      "Epoch 19/20\n",
      "104/104 [==============================] - 343s 3s/step - loss: 0.5452 - accuracy: 0.8615\n",
      "Epoch 20/20\n",
      "104/104 [==============================] - 329s 3s/step - loss: 0.5446 - accuracy: 0.8625\n"
     ]
    }
   ],
   "source": [
    "vgg_prev_epochs = len(vgg_result.history['loss'])\n",
    "new_vgg_model, new_vgg_result = transfer_learning_retrain(vgg, \"VGG16\", vgg_prev_epochs)"
   ]
  },
  {
   "cell_type": "code",
   "execution_count": 34,
   "id": "8a7b56c1",
   "metadata": {},
   "outputs": [
    {
     "data": {
      "application/vnd.jupyter.widget-view+json": {
       "model_id": "fca3bb20f3a244a8b8304e133f01c8fd",
       "version_major": 2,
       "version_minor": 0
      },
      "text/plain": [
       "  0%|          | 0/5 [00:00<?, ?it/s]"
      ]
     },
     "metadata": {},
     "output_type": "display_data"
    },
    {
     "data": {
      "application/vnd.jupyter.widget-view+json": {
       "model_id": "a35c0b11df384c73987b89ee3130604a",
       "version_major": 2,
       "version_minor": 0
      },
      "text/plain": [
       "  0%|          | 0/150 [00:00<?, ?it/s]"
      ]
     },
     "metadata": {},
     "output_type": "display_data"
    },
    {
     "data": {
      "application/vnd.jupyter.widget-view+json": {
       "model_id": "b0b70c6c118c469cb2026b87a64cfbce",
       "version_major": 2,
       "version_minor": 0
      },
      "text/plain": [
       "  0%|          | 0/137 [00:00<?, ?it/s]"
      ]
     },
     "metadata": {},
     "output_type": "display_data"
    },
    {
     "data": {
      "application/vnd.jupyter.widget-view+json": {
       "model_id": "d86ace2f50aa40bca013dbb288302968",
       "version_major": 2,
       "version_minor": 0
      },
      "text/plain": [
       "  0%|          | 0/111 [00:00<?, ?it/s]"
      ]
     },
     "metadata": {},
     "output_type": "display_data"
    },
    {
     "data": {
      "application/vnd.jupyter.widget-view+json": {
       "model_id": "7c9cbadd8db24c209a7434f619caa3db",
       "version_major": 2,
       "version_minor": 0
      },
      "text/plain": [
       "  0%|          | 0/167 [00:00<?, ?it/s]"
      ]
     },
     "metadata": {},
     "output_type": "display_data"
    },
    {
     "data": {
      "application/vnd.jupyter.widget-view+json": {
       "model_id": "f693c6301ba04b349f663d625c430e61",
       "version_major": 2,
       "version_minor": 0
      },
      "text/plain": [
       "  0%|          | 0/116 [00:00<?, ?it/s]"
      ]
     },
     "metadata": {},
     "output_type": "display_data"
    },
    {
     "name": "stdout",
     "output_type": "stream",
     "text": [
      "\n",
      "Multilabel Confusion Matrix:\n",
      "[[110   0   6  34   0]\n",
      " [  0   1  63  55  18]\n",
      " [  0   0 109   1   1]\n",
      " [  1   0  26 133   7]\n",
      " [  0   0  70  15  31]]\n",
      "\n",
      "Classification Report:\n",
      "              precision    recall  f1-score   support\n",
      "\n",
      "    baseball       0.99      0.73      0.84       150\n",
      "  basketball       1.00      0.01      0.01       137\n",
      "     fencing       0.40      0.98      0.57       111\n",
      "      tennis       0.56      0.80      0.66       167\n",
      "  volleyball       0.54      0.27      0.36       116\n",
      "\n",
      "    accuracy                           0.56       681\n",
      "   macro avg       0.70      0.56      0.49       681\n",
      "weighted avg       0.71      0.56      0.50       681\n",
      "\n"
     ]
    }
   ],
   "source": [
    "y_true_vgg, y_pred_vgg = getLabels(new_vgg_model)\n",
    "video_stats(y_true_vgg, y_pred_vgg)"
   ]
  }
 ],
 "metadata": {
  "kernelspec": {
   "display_name": "Python 3 (ipykernel)",
   "language": "python",
   "name": "python3"
  },
  "language_info": {
   "codemirror_mode": {
    "name": "ipython",
    "version": 3
   },
   "file_extension": ".py",
   "mimetype": "text/x-python",
   "name": "python",
   "nbconvert_exporter": "python",
   "pygments_lexer": "ipython3",
   "version": "3.9.12"
  }
 },
 "nbformat": 4,
 "nbformat_minor": 5
}
